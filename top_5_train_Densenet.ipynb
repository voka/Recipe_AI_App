{
  "nbformat": 4,
  "nbformat_minor": 0,
  "metadata": {
    "accelerator": "TPU",
    "colab": {
      "name": "top_5_train_Densenet.ipynb",
      "provenance": [],
      "collapsed_sections": [],
      "machine_shape": "hm"
    },
    "kernelspec": {
      "display_name": "Python 3",
      "name": "python3"
    },
    "language_info": {
      "name": "python"
    }
  },
  "cells": [
    {
      "cell_type": "code",
      "metadata": {
        "id": "I3qsDwHAQK1m"
      },
      "source": [
        "#-*- encoding: utf-8 -*-\n",
        "from __future__ import absolute_import, division, print_function, unicode_literals\n",
        "\n",
        "import os\n",
        "import numpy as np\n",
        "\n",
        "from google.colab import drive\n",
        "\n",
        "import tensorflow as tf\n",
        "import matplotlib.pylab as plt\n",
        "import tensorflow.keras as keras\n",
        "\n",
        "from tensorflow.keras import layers\n",
        "from tensorflow.keras import layers\n",
        "from tensorflow.keras.optimizers import Adam\n",
        "from tensorflow.keras.models import Sequential\n",
        "from sklearn.utils.class_weight import compute_class_weight\n",
        "from tensorflow.keras.layers import Dense, GlobalAveragePooling2D\n",
        "from tensorflow.keras.metrics import top_k_categorical_accuracy\n",
        "from tensorflow.keras.callbacks import ModelCheckpoint, CSVLogger\n",
        "from tensorflow.keras.preprocessing.image import ImageDataGenerator\n",
        "from tensorflow.keras.applications import MobileNetV2,InceptionV3,densenet"
      ],
      "execution_count": null,
      "outputs": []
    },
    {
      "cell_type": "code",
      "metadata": {
        "id": "AkehwcCuivvZ"
      },
      "source": [
        "def top_5_accuracy(true, pred):\n",
        "    return top_k_categorical_accuracy(true, pred, k=5)\n",
        "def path_join(dirname, img_paths):\n",
        "    return [os.path.join(dirname, img_path) for img_path in img_paths]"
      ],
      "execution_count": null,
      "outputs": []
    },
    {
      "cell_type": "code",
      "metadata": {
        "colab": {
          "base_uri": "https://localhost:8080/"
        },
        "id": "E2WpzlvMRxF9",
        "outputId": "fe0d076b-fa81-4513-9b3c-1494b1fe0dac"
      },
      "source": [
        "if os.path.exists('/content/gdrive/')== False:\n",
        "  drive.mount('/content/gdrive/')\n",
        "  print('Google drive is mounted\\n')\n",
        "else:\n",
        "  print('Google drive is already mounted\\n')"
      ],
      "execution_count": null,
      "outputs": [
        {
          "output_type": "stream",
          "text": [
            "Mounted at /content/gdrive/\n",
            "Google drive is mounted\n",
            "\n"
          ],
          "name": "stdout"
        }
      ]
    },
    {
      "cell_type": "code",
      "metadata": {
        "colab": {
          "base_uri": "https://localhost:8080/"
        },
        "id": "jJozlLrSRqud",
        "outputId": "64ae4e87-bb0a-499c-b287-78e48046ee07"
      },
      "source": [
        "#root Path 설정 및 각 데이터 배치 생성\n",
        "rootPath = '/content/gdrive/My Drive/Food_Recognition/'\n",
        "\n",
        "IMG_SIZE = (224, 224, 3)  \n",
        "batch_size = 32\n",
        "imageGenerator = ImageDataGenerator(\n",
        "    rescale=1./255,\n",
        "    rotation_range=20,\n",
        "    horizontal_flip=True\n",
        ")\n",
        "\n",
        "valid_datagen = ImageDataGenerator(\n",
        "        rescale=1./255,\n",
        ")\n",
        "trainGen = imageGenerator.flow_from_directory(\n",
        "   os.path.join(rootPath, 'train'),\n",
        "     target_size=IMG_SIZE[:2],\n",
        "     batch_size = batch_size,\n",
        "     shuffle=True,\n",
        " )\n",
        "validationGen = valid_datagen.flow_from_directory(\n",
        "   os.path.join(rootPath, 'val'),\n",
        "   target_size=IMG_SIZE[:2],\n",
        "   batch_size=batch_size,\n",
        "   shuffle=True,\n",
        ")"
      ],
      "execution_count": null,
      "outputs": [
        {
          "output_type": "stream",
          "text": [
            "Found 144272 images belonging to 170 classes.\n",
            "Found 16980 images belonging to 170 classes.\n"
          ],
          "name": "stdout"
        }
      ]
    },
    {
      "cell_type": "code",
      "metadata": {
        "id": "jslmAjxrj0JP"
      },
      "source": [
        "steps_train = trainGen.n / batch_size\n",
        "steps_validate = validationGen.n / batch_size\n",
        "\n",
        "cls_train = trainGen.classes\n",
        "cls_validate = validationGen.classes\n",
        "\n",
        "num_classes = trainGen.num_classes"
      ],
      "execution_count": null,
      "outputs": []
    },
    {
      "cell_type": "markdown",
      "metadata": {
        "id": "YKlFj43DW6TO"
      },
      "source": [
        "https://github.com/hohoins/ml/tree/master/ImageBinaryGenerator\n"
      ]
    },
    {
      "cell_type": "code",
      "metadata": {
        "id": "cKu-zcwpkFOj"
      },
      "source": [
        "class Model():\n",
        "    def __init__(self, name,  params):\n",
        "        assert name != '', \"Model name needs to be specified\"\n",
        "        self.name = name\n",
        "        self.trained = False   \n",
        "        \n",
        "    def construct_model(self):\n",
        "        if self.name == 'Inception_v3':\n",
        "            print('{:=^75}'.format('Downloading {}'.format(self.name)))\n",
        "            self.base_model = InceptionV3(**params['network_params'])\n",
        "            print('{:=^75}'.format('Download Complete'))\n",
        "            \n",
        "        elif self.name == 'DenseNet':\n",
        "            print('{:=^75}'.format('Downloading {}'.format(self.name)))\n",
        "            self.base_model = densenet.DenseNet169(**params['network_params'])\n",
        "            print('{:=^75}'.format('Download Complete'))\n",
        "\n",
        "        elif self.name == 'mobilenetv2':\n",
        "            print('{:=^75}'.format('Downloading {}'.format(self.name)))\n",
        "            self.base_model = MobileNetV2(**params['network_params'])\n",
        "            print('{:=^75}'.format('Download Complete'))\n",
        "        self.base_model.trainable = False    \n",
        "        # 모델 구조  base model -> global average pooling -> dense\n",
        "        print('{:=^75}'.format('Adding layers'))\n",
        "        self.model = Sequential([\n",
        "                self.base_model,\n",
        "                GlobalAveragePooling2D(),\n",
        "                Dense(params['num_classes'], activation='softmax')])\n",
        "        print('{:=^75}'.format('Added layers'))\n",
        "    \n",
        "        # 지정 경로에 저장\n",
        "        if not os.path.exists(rootPath + '/DenseNet/weight_path/'):\n",
        "            os.mkdir(rootPath + '/DenseNet/weight_path/')\n",
        "        self.weight_save_path = os.path.join(rootPath +'/DenseNet/weight_path/', self.name + \"_weights.h5\")\n",
        "        \n",
        "        print('{:=^75}'.format('Saving weights to {}'.format(self.weight_save_path)))\n",
        "        self.model.save_weights(self.weight_save_path)\n",
        "        print('{:=^75}'.format('Saved weights'))\n",
        "    \n",
        "    \n",
        "    # train with feature extraction\n",
        "    def train(self):\n",
        "        if self.trained == True:\n",
        "            self.model.load_weights(self.weight_save_path)\n",
        "            self.trained = False\n",
        "        \n",
        "        # parma validation\n",
        "        assert params['mode'] in ['fe', 'ft'], \"mode must be either 'fe' or 'ft'\"\n",
        "        \n",
        "        # 레이어 trainable 지정\n",
        "        # feature extraction\n",
        "        if params['mode'] == 'fe':\n",
        "            self.model.trainable = False\n",
        "            \n",
        "        # finetuning\n",
        "        elif params['mode'] == 'ft':\n",
        "            self.model.trainable = True\n",
        "    \n",
        "            \n",
        "        # compile the model with designated parameters    \n",
        "        self.model.compile(optimizer=Adam(learning_rate=params['learning_rate']),\n",
        "                           loss='categorical_crossentropy',\n",
        "                           metrics=['categorical_accuracy', top_5_accuracy])\n",
        "        \n",
        "        if not os.path.exists(params['log_path']):\n",
        "            os.mkdir(params['log_path'])\n",
        "        \n",
        "        if not os.path.exists(params['cp_path']):\n",
        "            os.mkdir(params['cp_path'])\n",
        "        \n",
        "        # csv logger callback \n",
        "        log_path = os.path.join(params['log_path'], self.name + '_' + params['mode'] + '.log')\n",
        "        csvlog_callback = CSVLogger(log_path)\n",
        "        \n",
        "        # checkpoint callback \n",
        "        cp_path = os.path.join(params['cp_path'], self.name + '_' + params['mode'] + '-{epoch:04d}-{val_loss:.2f}.h5')\n",
        "        cp_callback = ModelCheckpoint(cp_path,\n",
        "                                      mode=\"max\",\n",
        "                                      save_best_only=True)\n",
        "        \n",
        "        print('{:=^75}'.format('training {} with {}'.format(self.name, params['mode'])))\n",
        "        # actual data fitting\n",
        "        \n",
        "        self.history = self.model.fit(trainGen, epochs=params['epoch'],\n",
        "                                steps_per_epoch=steps_train,\n",
        "                                validation_data=validationGen,\n",
        "                                validation_steps=steps_validate,\n",
        "                                callbacks=[cp_callback, csvlog_callback])\n",
        "        # save model once done training    \n",
        "        if not os.path.exists(params['model_path']):\n",
        "            os.mkdir(params['model_path'])\n",
        "            \n",
        "        model_save_path = os.path.join(params['model_path'], self.name + '_' + params['mode'] + '.h5')\n",
        "        self.model.save(model_save_path)\n",
        "        self.trained = True"
      ],
      "execution_count": null,
      "outputs": []
    },
    {
      "cell_type": "code",
      "metadata": {
        "id": "9KoofPruliyy"
      },
      "source": [
        "params = {\n",
        "    'num_classes': num_classes,\n",
        "    'log_path': rootPath + 'DenseNet/log/',\n",
        "    'cp_path': rootPath + 'DenseNet/check_point/',\n",
        "    'model_path': rootPath + 'DenseNet/model/',\n",
        "    'mode': 'ft',\n",
        "    'learning_rate': 0.001,\n",
        "    'epoch': 1,\n",
        "    'network_params': {\n",
        "    'include_top' : False, \n",
        "    'weights' : 'imagenet', \n",
        "    'input_shape' : IMG_SIZE\n",
        "    }\n",
        "}"
      ],
      "execution_count": null,
      "outputs": []
    },
    {
      "cell_type": "code",
      "metadata": {
        "id": "YAOtngkYnXqW"
      },
      "source": [
        "DenseNet = Model(name='DenseNet',  params=params)"
      ],
      "execution_count": null,
      "outputs": []
    },
    {
      "cell_type": "code",
      "metadata": {
        "id": "LJbxXKU35t56"
      },
      "source": [
        "#retrain\n",
        "model = keras.models.load_model(rootPath + 'DenseNet/check_point/DenseNet_ft-0001-2.78.h5', custom_objects={'top_5_accuracy':top_5_accuracy})\n",
        "DenseNet.model = model\n"
      ],
      "execution_count": null,
      "outputs": []
    },
    {
      "cell_type": "code",
      "metadata": {
        "colab": {
          "base_uri": "https://localhost:8080/"
        },
        "id": "NgkY0UU3n4LV",
        "outputId": "481a3078-ce44-43fd-b7de-ed8e614a9ecb"
      },
      "source": [
        "DenseNet.construct_model()"
      ],
      "execution_count": null,
      "outputs": [
        {
          "output_type": "stream",
          "text": [
            "===========================Downloading DenseNet============================\n",
            "Downloading data from https://storage.googleapis.com/tensorflow/keras-applications/densenet/densenet169_weights_tf_dim_ordering_tf_kernels_notop.h5\n",
            "51879936/51877672 [==============================] - 0s 0us/step\n",
            "=============================Download Complete=============================\n",
            "===============================Adding layers===============================\n",
            "===============================Added layers================================\n",
            "Saving weights to /content/gdrive/My Drive/Food_Recognition//DenseNet/weight_path/DenseNet_weights.h5\n",
            "===============================Saved weights===============================\n"
          ],
          "name": "stdout"
        }
      ]
    },
    {
      "cell_type": "code",
      "metadata": {
        "colab": {
          "base_uri": "https://localhost:8080/"
        },
        "id": "VzrkDkPZqgBp",
        "outputId": "bef9d8c3-decd-48c0-8118-7a320485f450"
      },
      "source": [
        "DenseNet.model.summary()"
      ],
      "execution_count": null,
      "outputs": [
        {
          "output_type": "stream",
          "text": [
            "Model: \"sequential\"\n",
            "_________________________________________________________________\n",
            "Layer (type)                 Output Shape              Param #   \n",
            "=================================================================\n",
            "densenet169 (Functional)     (None, 7, 7, 1664)        12642880  \n",
            "_________________________________________________________________\n",
            "global_average_pooling2d (Gl (None, 1664)              0         \n",
            "_________________________________________________________________\n",
            "dense (Dense)                (None, 170)               283050    \n",
            "=================================================================\n",
            "Total params: 12,925,930\n",
            "Trainable params: 12,767,530\n",
            "Non-trainable params: 158,400\n",
            "_________________________________________________________________\n"
          ],
          "name": "stdout"
        }
      ]
    },
    {
      "cell_type": "code",
      "metadata": {
        "colab": {
          "base_uri": "https://localhost:8080/"
        },
        "id": "G4NfUbZHv1SW",
        "outputId": "00a12307-a4b3-452a-e962-ed479314b846"
      },
      "source": [
        "DenseNet.train()"
      ],
      "execution_count": null,
      "outputs": [
        {
          "output_type": "stream",
          "text": [
            "=========================training DenseNet with ft=========================\n",
            " 143/4508 [..............................] - ETA: 10:50:01 - loss: 1.7550 - categorical_accuracy: 0.5334 - top_5_accuracy: 0.8217"
          ],
          "name": "stdout"
        },
        {
          "output_type": "stream",
          "text": [
            "/usr/local/lib/python3.7/dist-packages/PIL/TiffImagePlugin.py:788: UserWarning: Corrupt EXIF data.  Expecting to read 12 bytes but only got 4. \n",
            "  warnings.warn(str(msg))\n"
          ],
          "name": "stderr"
        },
        {
          "output_type": "stream",
          "text": [
            " 189/4508 [>.............................] - ETA: 10:51:17 - loss: 1.7460 - categorical_accuracy: 0.5365 - top_5_accuracy: 0.8218"
          ],
          "name": "stdout"
        },
        {
          "output_type": "stream",
          "text": [
            "/usr/local/lib/python3.7/dist-packages/PIL/TiffImagePlugin.py:770: UserWarning: Possibly corrupt EXIF data.  Expecting to read 20 bytes but only got 6. Skipping tag 272\n",
            "  \" Skipping tag %s\" % (size, len(data), tag)\n"
          ],
          "name": "stderr"
        },
        {
          "output_type": "stream",
          "text": [
            " 345/4508 [=>............................] - ETA: 10:40:33 - loss: 1.7257 - categorical_accuracy: 0.5418 - top_5_accuracy: 0.8245"
          ],
          "name": "stdout"
        },
        {
          "output_type": "stream",
          "text": [
            "/usr/local/lib/python3.7/dist-packages/PIL/Image.py:960: UserWarning: Palette images with Transparency expressed in bytes should be converted to RGBA images\n",
            "  \"Palette images with Transparency expressed in bytes should be \"\n"
          ],
          "name": "stderr"
        },
        {
          "output_type": "stream",
          "text": [
            "2247/4508 [=============>................] - ETA: 5:54:34 - loss: 1.6291 - categorical_accuracy: 0.5643 - top_5_accuracy: 0.8422"
          ],
          "name": "stdout"
        },
        {
          "output_type": "stream",
          "text": [
            "/usr/local/lib/python3.7/dist-packages/PIL/TiffImagePlugin.py:770: UserWarning: Possibly corrupt EXIF data.  Expecting to read 1498 bytes but only got 0. Skipping tag 37500\n",
            "  \" Skipping tag %s\" % (size, len(data), tag)\n",
            "/usr/local/lib/python3.7/dist-packages/PIL/TiffImagePlugin.py:770: UserWarning: Possibly corrupt EXIF data.  Expecting to read 125 bytes but only got 120. Skipping tag 37510\n",
            "  \" Skipping tag %s\" % (size, len(data), tag)\n",
            "/usr/local/lib/python3.7/dist-packages/PIL/TiffImagePlugin.py:770: UserWarning: Possibly corrupt EXIF data.  Expecting to read 8 bytes but only got 0. Skipping tag 41988\n",
            "  \" Skipping tag %s\" % (size, len(data), tag)\n"
          ],
          "name": "stderr"
        },
        {
          "output_type": "stream",
          "text": [
            "4312/4508 [===========================>..] - ETA: 29:10 - loss: 1.5395 - categorical_accuracy: 0.5866 - top_5_accuracy: 0.8546"
          ],
          "name": "stdout"
        },
        {
          "output_type": "stream",
          "text": [
            "/usr/local/lib/python3.7/dist-packages/PIL/TiffImagePlugin.py:770: UserWarning: Possibly corrupt EXIF data.  Expecting to read 1078 bytes but only got 0. Skipping tag 37500\n",
            "  \" Skipping tag %s\" % (size, len(data), tag)\n"
          ],
          "name": "stderr"
        },
        {
          "output_type": "stream",
          "text": [
            "4339/4508 [===========================>..] - ETA: 25:09 - loss: 1.5381 - categorical_accuracy: 0.5870 - top_5_accuracy: 0.8548"
          ],
          "name": "stdout"
        },
        {
          "output_type": "stream",
          "text": [
            "/usr/local/lib/python3.7/dist-packages/PIL/TiffImagePlugin.py:770: UserWarning: Possibly corrupt EXIF data.  Expecting to read 8 bytes but only got 2. Skipping tag 41486\n",
            "  \" Skipping tag %s\" % (size, len(data), tag)\n",
            "/usr/local/lib/python3.7/dist-packages/PIL/TiffImagePlugin.py:770: UserWarning: Possibly corrupt EXIF data.  Expecting to read 8 bytes but only got 0. Skipping tag 41487\n",
            "  \" Skipping tag %s\" % (size, len(data), tag)\n"
          ],
          "name": "stderr"
        },
        {
          "output_type": "stream",
          "text": [
            "4450/4508 [============================>.] - ETA: 8:40 - loss: 1.5347 - categorical_accuracy: 0.5879 - top_5_accuracy: 0.8552"
          ],
          "name": "stdout"
        }
      ]
    },
    {
      "cell_type": "code",
      "metadata": {
        "id": "aXP5S3s3RGSi"
      },
      "source": [
        "model_save_path = os.path.join(params['model_path'], DenseNet.model.name + 'true_' + params['mode'] + '.h5')\n",
        "DenseNet.model.save(model_save_path)\n",
        "DenseNet.trained = True"
      ],
      "execution_count": null,
      "outputs": []
    },
    {
      "cell_type": "code",
      "metadata": {
        "colab": {
          "base_uri": "https://localhost:8080/",
          "height": 574
        },
        "id": "zPsHg9sYRJQI",
        "outputId": "6dd8e77d-dcf6-4739-92c1-7f1c8feaeb76"
      },
      "source": [
        "import pandas as pd\n",
        "import matplotlib.pyplot as plt\n",
        "\n",
        "headers = [\n",
        "    'epoch',\n",
        "    'categorical_accuracy',\n",
        "    'loss',\n",
        "    'top_5_accuracy',\n",
        "    'val_categorical_accuracy',\n",
        "    'val_loss',\n",
        "    'val_top_5_accuracy'\n",
        "]\n",
        "\n",
        "#inceptionv3_fe_log = 'log/inceptionv3_fe.log'\n",
        "#inceptionv3_ft_log = 'log/inceptionv3_ft.log'\n",
        "DenseNet_fe_log =  rootPath + 'DenseNet/log/DenseNet_fe.log'\n",
        " #MobilenetV2_ft_log = 'log/ MobilenetV2_ft.log'\n",
        "\n",
        "logs = [DenseNet_fe_log]\n",
        "\n",
        "legends = [log.split('/')[1].split('.log')[0] for log in logs]\n",
        "\n",
        "fig = plt.figure(figsize=(20,10))\n",
        "for log in logs:\n",
        "    df = pd.read_csv(log)\n",
        "    # val loss subplot\n",
        "    plt.subplot(2,2,1)\n",
        "    plt.title('Validation Loss')\n",
        "    plt.plot(df.epoch, df.val_loss)\n",
        "    plt.legend(legends)\n",
        "    \n",
        "    # val accuracy subplot\n",
        "    plt.subplot(2,2,2)\n",
        "    plt.title('Validation Accuracy')\n",
        "    plt.plot(df.epoch, df.val_categorical_accuracy)\n",
        "    plt.legend(legends)\n",
        "    \n",
        "    # val top 3 accuracy subplot\n",
        "    plt.subplot(2,2,3)\n",
        "    plt.title('Validation Top 5 Accuracy')\n",
        "    plt.plot(df.epoch, df.val_top_5_accuracy)\n",
        "    plt.legend(legends)\n",
        "\n",
        "plt.show()\n"
      ],
      "execution_count": null,
      "outputs": [
        {
          "output_type": "display_data",
          "data": {
            "image/png": "[encoded data removed]",
            "text/plain": [
              "<Figure size 1440x720 with 3 Axes>"
            ]
          },
          "metadata": {
            "tags": [],
            "needs_background": "light"
          }
        }
      ]
    },
    {
      "cell_type": "code",
      "metadata": {
        "id": "ds32YYzTx7ew",
        "colab": {
          "base_uri": "https://localhost:8080/"
        },
        "outputId": "8e4e5a04-945b-4ea4-be58-171559400efa"
      },
      "source": [
        "\n",
        "testGen = valid_datagen.flow_from_directory(\n",
        "    os.path.join(rootPath, 'test'),\n",
        "    target_size=IMG_SIZE[:2],\n",
        "    batch_size=batch_size,\n",
        ")"
      ],
      "execution_count": null,
      "outputs": [
        {
          "output_type": "stream",
          "text": [
            "Found 33829 images belonging to 170 classes.\n"
          ],
          "name": "stdout"
        }
      ]
    },
    {
      "cell_type": "code",
      "metadata": {
        "id": "op5lo9zZRtVQ"
      },
      "source": [
        "def plot_images(images, cls_true, cls_pred):\n",
        "    \n",
        "    assert len(images) == len(cls_true)\n",
        "    if len(images) == 0: return\n",
        "\n",
        "    num_x_plot = int(np.ceil(len(images)/5))\n",
        "    fig, axes = plt.subplots(num_x_plot , 5 , figsize=(22,len(images)))\n",
        "    interpolation = 'spline16'\n",
        "\n",
        "    fig.subplots_adjust(hspace=0.6)\n",
        "  \n",
        "    for i, ax in enumerate(axes.flat):\n",
        "        if i < len(images):\n",
        "            ax.imshow(images[i], interpolation=interpolation)\n",
        "            cls_pred_name = cls_pred.argsort(axis=1)[i][-3:][::-1]\n",
        "            cls_pred_prob = np.sort(cls_pred, axis=1)[i][-3:][::-1]\n",
        "            cls_true_name = cls_true[i]\n",
        "            xlabel = \"\"\n",
        "            for idx, class_name in enumerate(cls_pred_name):\n",
        "                xlabel += \"Pred {} : {}, score: {:.04f} \\n\".format(idx, idx_cls[class_name], cls_pred_prob[idx])\n",
        "                xlabel += \"True:{}\".format(idx_cls[cls_true_name])\n",
        "                ax.set_xlabel(xlabel, fontsize=15.0)\n",
        "        ax.set_xticks([])\n",
        "        ax.set_yticks([])\n",
        "    plt.tight_layout()\n",
        "    plt.show()\n",
        "    \n",
        "def load_images(image_paths):\n",
        "    images = [plt.imread(path) for path in image_paths]\n",
        "    return np.asarray(images)\n",
        "\n",
        "def print_errors(class_num, cls_test, cls_pred, size=15):\n",
        "    generator_test.reset()\n",
        "\n",
        "    cls_pred_argmax = cls_pred.argmax(axis=1) # 예측 클래스 어래이\n",
        "    incorrect = (cls_pred_argmax != cls_test) # 틀린 예측 인덱스\n",
        "    true_incorrect = cls_test[incorrect]\n",
        "    pred_incorrect = cls_pred_argmax[incorrect]\n",
        "\n",
        "    pred_idx = np.argwhere(pred_incorrect == class_num).flatten() \n",
        "\n",
        "    print('예측 틀린 개수:{}'.format(len(pred_idx)))\n",
        "\n",
        "    rdm_idx = np.random.randint(0, len(pred_idx), size)\n",
        "    # 틀린 index 중 주어진 카테고리 번호의 prediction 이 틀린 index 중 랜덤한 size개의 index의 image_path\n",
        "    image_path = np.array(path_join(test_dir_name, generator_test.filenames))[incorrect][pred_idx][rdm_idx]\n",
        "    image = load_images(image_path)\n",
        "\n",
        "    true_incorrect = true_incorrect[pred_idx][rdm_idx]\n",
        "    pred_incorrect = cls_pred[incorrect][pred_idx][rdm_idx]\n",
        "\n",
        "    plot_images(images=image, cls_true=true_incorrect, cls_pred=pred_incorrect)\n",
        "    \n",
        "    \n",
        "def print_confusion_matrix(cls_test, cls_pred, labels, labels_actual):\n",
        "  \n",
        "    cm = confusion_matrix(y_true=cls_test,\n",
        "                          y_pred=cls_pred.argmax(axis=1),\n",
        "                          labels=labels)\n",
        "    \n",
        "    true_pos = np.diag(cm)\n",
        "    true_pos_false_pos = np.sum(cm, axis=0).astype(float)\n",
        "    true_pos_false_neg = np.sum(cm, axis=1).astype(float)\n",
        "\n",
        "    precision = true_pos / (true_pos_false_pos)\n",
        "    recall = true_pos / (true_pos_false_neg)\n",
        "\n",
        "    # please take care of divison by zero\n",
        "    precision[np.isnan(precision)] = 0.0\n",
        "    recall[np.isnan(recall)] = 0.0\n",
        "\n",
        "    plt.figure(figsize=(20,10))\n",
        "    sns.heatmap(cm, \n",
        "                annot=True, \n",
        "                xticklabels=label_actual, \n",
        "                yticklabels=label_actual, \n",
        "                fmt='g')\n",
        "\n",
        "    plt.xlabel(\"predicted label\")\n",
        "    plt.ylabel(\"actual label\")\n",
        "    \n",
        "    for i, class_name in enumerate(label_actual):\n",
        "        print(\"({0}) {1}: recall={2:.2f}, precision={3:.2f}\".format(i, class_name , recall[i], precision[i]))"
      ],
      "execution_count": null,
      "outputs": []
    },
    {
      "cell_type": "code",
      "metadata": {
        "id": "pjkQCvjSRu_2",
        "colab": {
          "base_uri": "https://localhost:8080/"
        },
        "outputId": "66496bde-7730-450f-8a2b-cb532336825f"
      },
      "source": [
        "testGen.class_indices"
      ],
      "execution_count": null,
      "outputs": [
        {
          "output_type": "execute_result",
          "data": {
            "text/plain": [
              "{'aehobagbokk_eum': 0,\n",
              " 'albab': 1,\n",
              " 'apple_pie': 2,\n",
              " 'baby_back_ribs': 3,\n",
              " 'baechugimchi': 4,\n",
              " 'baeggimchi': 5,\n",
              " 'beef_carpaccio': 6,\n",
              " 'bibimbab': 7,\n",
              " 'bossam': 8,\n",
              " 'breakfast_burrito': 9,\n",
              " 'bulgogi': 10,\n",
              " 'cheesecake': 11,\n",
              " 'chicken_curry': 12,\n",
              " 'chicken_quesadilla': 13,\n",
              " 'chicken_wings': 14,\n",
              " 'chocolate_cake': 15,\n",
              " 'chocolate_mousse': 16,\n",
              " 'chueotang': 17,\n",
              " 'churros': 18,\n",
              " 'club_sandwich': 19,\n",
              " 'croque_madame': 20,\n",
              " 'dalg_galbi': 21,\n",
              " 'dalgbokk_eumtang': 22,\n",
              " 'doenjangjjigae': 23,\n",
              " 'dolajimuchim': 24,\n",
              " 'dong_geulangttaeng': 25,\n",
              " 'donuts': 26,\n",
              " 'dubugimchi': 27,\n",
              " 'dubujolim': 28,\n",
              " 'dumplings': 29,\n",
              " 'eomugbokk_eum': 30,\n",
              " 'escargots': 31,\n",
              " 'fish_and_chips': 32,\n",
              " 'foie_gras': 33,\n",
              " 'french_fries': 34,\n",
              " 'french_toast': 35,\n",
              " 'fried_calamari': 36,\n",
              " 'frozen_yogurt': 37,\n",
              " 'gajibokk_eum': 38,\n",
              " 'galbigu_i': 39,\n",
              " 'galbijjim': 40,\n",
              " 'galbitang': 41,\n",
              " 'gamjachaebokk_eum': 42,\n",
              " 'gamjajeon': 43,\n",
              " 'gamjajolim': 44,\n",
              " 'gamjatang': 45,\n",
              " 'ganjang_gejang': 46,\n",
              " 'garlic_bread': 47,\n",
              " 'geonsaeubokk_eum': 48,\n",
              " 'gimbab': 49,\n",
              " 'gimchibokk_eumbab': 50,\n",
              " 'gimchijeon': 51,\n",
              " 'gimchijjigae': 52,\n",
              " 'gimchijjim': 53,\n",
              " 'gochujangjinmichaebokk_eum': 54,\n",
              " 'gochutwigim': 55,\n",
              " 'godeung_eojolim': 56,\n",
              " 'gomtang_seolleongtang': 57,\n",
              " 'gosalinamul': 58,\n",
              " 'grilled_cheese_sandwich': 59,\n",
              " 'grilled_salmon': 60,\n",
              " 'guacamole': 61,\n",
              " 'gyelanhulai': 62,\n",
              " 'gyelanjjim': 63,\n",
              " 'gyoza': 64,\n",
              " 'haemuljjim': 65,\n",
              " 'hamburger': 66,\n",
              " 'hangwa': 67,\n",
              " 'hobagjeon': 68,\n",
              " 'hobagjug': 69,\n",
              " 'hot_dog': 70,\n",
              " 'hulaideuchikin': 71,\n",
              " 'ice_cream': 72,\n",
              " 'jabchae': 73,\n",
              " 'janchigugsu': 74,\n",
              " 'jangjolim': 75,\n",
              " 'jeonbogjug': 76,\n",
              " 'jeosgal': 77,\n",
              " 'jeyugbokk_eum': 78,\n",
              " 'jjajangmyeon': 79,\n",
              " 'jjamppong': 80,\n",
              " 'jjimdalg': 81,\n",
              " 'jjolmyeon': 82,\n",
              " 'jogbal': 83,\n",
              " 'jukkumibokk_eum': 84,\n",
              " 'jumeogbab': 85,\n",
              " 'kalgugsu': 86,\n",
              " 'kkaes_ipjang_ajji': 87,\n",
              " 'kkagdugi': 88,\n",
              " 'kodalijolim': 89,\n",
              " 'kong_gugsu': 90,\n",
              " 'kongjaban': 91,\n",
              " 'kongnamulgug': 92,\n",
              " 'kongnamulmuchim': 93,\n",
              " 'lamyeon': 94,\n",
              " 'lasagna': 95,\n",
              " 'macaroni_and_cheese': 96,\n",
              " 'macarons': 97,\n",
              " 'maeuntang': 98,\n",
              " 'maggugsu': 99,\n",
              " 'mandu': 100,\n",
              " 'miyeoggug': 101,\n",
              " 'mugug': 102,\n",
              " 'mulnaengmyeon': 103,\n",
              " 'musaengchae': 104,\n",
              " 'mussels': 105,\n",
              " 'myeolchibokk_eum': 106,\n",
              " 'nachos': 107,\n",
              " 'nulungji': 108,\n",
              " 'oisobag_i': 109,\n",
              " 'ojing_eochaebokk_eum': 110,\n",
              " 'ojing_eotwigim': 111,\n",
              " 'omelette': 112,\n",
              " 'onion_rings': 113,\n",
              " 'oysters': 114,\n",
              " 'pad_thai': 115,\n",
              " 'paella': 116,\n",
              " 'pajeon': 117,\n",
              " 'pancakes': 118,\n",
              " 'peking_duck': 119,\n",
              " 'pho': 120,\n",
              " 'pija': 121,\n",
              " 'pork_chop': 122,\n",
              " 'poutine': 123,\n",
              " 'prime_rib': 124,\n",
              " 'pulled_pork_sandwich': 125,\n",
              " 'pyeon_yug': 126,\n",
              " 'ramen': 127,\n",
              " 'ravioli': 128,\n",
              " 'risotto': 129,\n",
              " 'saeubokk_eumbab': 130,\n",
              " 'saeutwigim': 131,\n",
              " 'salad': 132,\n",
              " 'samgyetang': 133,\n",
              " 'samosa': 134,\n",
              " 'sashimi': 135,\n",
              " 'scallops': 136,\n",
              " 'sigeumchinamul': 137,\n",
              " 'sighye': 138,\n",
              " 'songpyeon': 139,\n",
              " 'sosejibokk_eum': 140,\n",
              " 'spaghetti_bolognese': 141,\n",
              " 'spaghetti_carbonara': 142,\n",
              " 'spring_rolls': 143,\n",
              " 'steak': 144,\n",
              " 'sugjunamul': 145,\n",
              " 'sujebi': 146,\n",
              " 'sujeong_gwa': 147,\n",
              " 'sundae': 148,\n",
              " 'sundubujjigae': 149,\n",
              " 'sushi': 150,\n",
              " 'tacos': 151,\n",
              " 'takoyaki': 152,\n",
              " 'tiramisu': 153,\n",
              " 'ttangkongjolim': 154,\n",
              " 'tteogbokk_i': 155,\n",
              " 'tteoggalbi': 156,\n",
              " 'tteoggug_mandugug': 157,\n",
              " 'tteogkkochi': 158,\n",
              " 'tuna_tartare': 159,\n",
              " 'ueongjolim': 160,\n",
              " 'waffles': 161,\n",
              " 'yaggwa': 162,\n",
              " 'yagsig': 163,\n",
              " 'yangnyeomchikin': 164,\n",
              " 'yangnyeomgejang': 165,\n",
              " 'yeongeunjolim': 166,\n",
              " 'yubuchobab': 167,\n",
              " 'yuggaejang': 168,\n",
              " 'yughoe': 169}"
            ]
          },
          "metadata": {
            "tags": []
          },
          "execution_count": 16
        }
      ]
    },
    {
      "cell_type": "code",
      "metadata": {
        "id": "SdC7Rp4ERwks"
      },
      "source": [
        "step_size = testGen.n/batch_size + 1"
      ],
      "execution_count": null,
      "outputs": []
    },
    {
      "cell_type": "code",
      "metadata": {
        "id": "bqFR20KgRyX0"
      },
      "source": [
        "def top_5_accuracy(true, pred):\n",
        "    return top_k_categorical_accuracy(true, pred, 5)\n",
        "model = DenseNet.model"
      ],
      "execution_count": null,
      "outputs": []
    },
    {
      "cell_type": "code",
      "metadata": {
        "id": "PefynVYyR5aP",
        "colab": {
          "base_uri": "https://localhost:8080/"
        },
        "outputId": "327f0fd0-baab-4b9c-b522-415c2cdc6746"
      },
      "source": [
        "cls_pred = model.predict(testGen, steps=step_size, verbose=1)"
      ],
      "execution_count": null,
      "outputs": [
        {
          "output_type": "stream",
          "text": [
            "  96/1058 [=>............................] - ETA: 2:37:50"
          ],
          "name": "stdout"
        }
      ]
    },
    {
      "cell_type": "code",
      "metadata": {
        "id": "sk-hn2KPR59_"
      },
      "source": [
        "label = np.sort(testGen.class_indices.values())\n",
        "label_actual = np.sort(testGen.class_indices.keys())"
      ],
      "execution_count": null,
      "outputs": []
    },
    {
      "cell_type": "code",
      "metadata": {
        "id": "vBYrkuDoR6Aa"
      },
      "source": [
        "cls_test = testGen.classes\n",
        "cls_pred_classes = cls_pred.argsort(axis=1)"
      ],
      "execution_count": null,
      "outputs": []
    },
    {
      "cell_type": "code",
      "metadata": {
        "id": "KomfoqMnR6C8"
      },
      "source": [
        "idx_cls = {v:k for k,v in testGen.class_indices.items()}"
      ],
      "execution_count": null,
      "outputs": []
    },
    {
      "cell_type": "code",
      "metadata": {
        "id": "qPG1kcqaR6HF"
      },
      "source": [
        "idx_cls"
      ],
      "execution_count": null,
      "outputs": []
    },
    {
      "cell_type": "code",
      "metadata": {
        "id": "Zx-Rfb-3R6JL"
      },
      "source": [
        "def path_join(dirname, img_paths):\n",
        "  return [os.path.join(dirname, img_path) for img_path in img_paths]\n",
        "\n",
        "def print_confusion_matrix(cls_test, cls_pred, label, label_actual):\n",
        "  \n",
        "  cm = confusion_matrix(y_true=cls_test,\n",
        "                        y_pred=cls_pred.argmax(axis=1),\n",
        "                        labels=label)\n",
        "  true_pos = np.diag(cm)\n",
        "  true_pos_false_pos = np.sum(cm, axis=0).astype(float)\n",
        "  true_pos_false_neg = np.sum(cm, axis=1).astype(float)\n",
        "\n",
        "  precision = true_pos / (true_pos_false_pos)\n",
        "  recall = true_pos / (true_pos_false_neg)\n",
        "  \n",
        "  # please take care of divison by zero\n",
        "  precision[np.isnan(precision)] = 0.0\n",
        "  recall[np.isnan(recall)] = 0.0\n",
        "\n",
        "  plt.figure(figsize=(20,10))\n",
        "  sns.heatmap(cm, annot=True, xticklabels=label_actual, yticklabels=label_actual, fmt='g', cmap='terrain')\n",
        "\n",
        "  plt.xlabel(\"predicted label\")\n",
        "  plt.ylabel(\"actual label\")  \n",
        "  for i, class_name in enumerate(label_actual):\n",
        "    print(\"({0}) {1}: recall={2:.2f}, precision={3:.2f}\".format(i, class_name , recall[i], precision[i]))\n",
        "\n",
        "def load_images(image_paths):\n",
        "  images = [plt.imread(path) for path in image_paths]\n",
        "  return np.asarray(images)\n",
        "\n",
        "def plot_images(images, cls_true, cls_pred):\n",
        "  assert len(images) == len(cls_true)\n",
        "  if len(images) == 0: return\n",
        "  \n",
        "  num_x_plot = int(np.ceil(len(images)/4))\n",
        "  fig, axes = plt.subplots(num_x_plot , 4 , figsize=(22,len(images)))\n",
        "  interpolation = 'spline16'\n",
        "  \n",
        "  fig.subplots_adjust(hspace=0.6)\n",
        "  \n",
        "  for i, ax in enumerate(axes.flat):\n",
        "    if i < len(images):\n",
        "      ax.imshow(images[i], interpolation=interpolation)\n",
        "      cls_pred_name = cls_pred.argsort(axis=1)[i][-3:][::-1]\n",
        "      cls_pred_prob = np.sort(cls_pred, axis=1)[i][-3:][::-1]\n",
        "      cls_true_name = cls_true[i]\n",
        "      xlabel = \"\"\n",
        "      for idx, class_name in enumerate(cls_pred_name):\n",
        "        xlabel += \"Pred {} : {}, score: {:.04f} \\n\".format(idx, idx_cls[class_name], cls_pred_prob[idx])\n",
        "      xlabel += \"True:{}\".format(idx_cls[cls_true_name])\n",
        "      ax.set_xlabel(xlabel, fontsize=15.0)\n",
        "    ax.set_xticks([])\n",
        "    ax.set_yticks([])\n",
        "  plt.tight_layout()\n",
        "  plt.show()\n",
        "  \n",
        "\n",
        "def print_errors(class_name):\n",
        "  generator_test.reset()\n",
        "\n",
        "  cls_pred_argmax = cls_pred.argmax(axis=1) # 예측 클래스 어래이\n",
        "  incorrect = (cls_pred_argmax != cls_test) # 틀린 예측 인덱스\n",
        "  true_incorrect = cls_test[incorrect]\n",
        "  pred_incorrect = cls_pred_argmax[incorrect]\n",
        "  \n",
        "  pred_idx = np.argwhere(pred_incorrect == class_name).flatten() \n",
        " \n",
        "  print('예측 틀린 개수:{}'.format(len(pred_idx)))\n",
        "  \n",
        "  rdm_idx = np.random.randint(0, len(pred_idx), size=12)\n",
        "  image_path = np.array(path_join(test_dir_name, generator_test.filenames))[incorrect][pred_idx][rdm_idx]\n",
        "  image = load_images(image_path)\n",
        "  \n",
        "  true_incorrect = true_incorrect[pred_idx][rdm_idx]\n",
        "  pred_incorrect = cls_pred[incorrect][pred_idx][rdm_idx]\n",
        "  \n",
        "  plot_images(images=image, cls_true=true_incorrect, cls_pred=pred_incorrect)"
      ],
      "execution_count": null,
      "outputs": []
    },
    {
      "cell_type": "code",
      "metadata": {
        "id": "S9RLaN-zR_DH"
      },
      "source": [
        "print_confusion_matrix(cls_test, cls_pred, label, label_actual)"
      ],
      "execution_count": null,
      "outputs": []
    },
    {
      "cell_type": "code",
      "metadata": {
        "id": "fnqG3AxUSAuQ"
      },
      "source": [
        "print_errors(1)"
      ],
      "execution_count": null,
      "outputs": []
    },
    {
      "cell_type": "code",
      "metadata": {
        "id": "xUjg3MJMSAw_"
      },
      "source": [
        "print_errors(2)"
      ],
      "execution_count": null,
      "outputs": []
    },
    {
      "cell_type": "code",
      "metadata": {
        "id": "bGBeJgcK4QRr"
      },
      "source": [
        " # testGen 정확도\n",
        "test_steps=len(testGen)\n",
        "\n",
        "loss0,accuracy0 = model.evaluate(testGen,batch_size=32, steps = test_steps)\n",
        "print(\"checkPoint loss: {:.2f}\".format(loss0))\n",
        "print(\"checkPoint accuracy: {:.2f}\".format(accuracy0)) "
      ],
      "execution_count": null,
      "outputs": []
    }
  ]
}